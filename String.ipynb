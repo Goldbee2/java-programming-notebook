{
 "cells": [
  {
   "cell_type": "markdown",
   "metadata": {},
   "source": [
    "## Strings"
   ]
  },
  {
   "cell_type": "code",
   "execution_count": 6,
   "metadata": {},
   "outputs": [],
   "source": [
    "import java.util.*;"
   ]
  },
  {
   "cell_type": "markdown",
   "metadata": {},
   "source": [
    "### Printing"
   ]
  },
  {
   "cell_type": "markdown",
   "metadata": {},
   "source": [
    "Write a program that prints the string representtation of number from 1 to a given number n.\n",
    "\n",
    "However, for multiples of three it should print \"Fizz\" instead of the number; for the multiples of five print \"Buzz\"; for numbers which are multiples of both print \"FizzBuzz\"."
   ]
  },
  {
   "cell_type": "code",
   "execution_count": 7,
   "metadata": {},
   "outputs": [
    {
     "name": "stdout",
     "output_type": "stream",
     "text": [
      "1\n",
      "2\n",
      "Fizz\n",
      "4\n",
      "Buzz\n"
     ]
    }
   ],
   "source": [
    "int n = 5;\n",
    "for (int i = 1; i <= n; i++) {\n",
    "    if (i % 3 == 0 && i % 5 == 0){\n",
    "        System.out.println(\"FizzBuzz\");\n",
    "    } else if (i % 5 == 0) {\n",
    "        System.out.println(\"Buzz\");\n",
    "    } else if (i % 3 == 0) {\n",
    "        System.out.println(\"Fizz\");\n",
    "    } else {\n",
    "        System.out.println(i);\n",
    "    }\n",
    "}"
   ]
  },
  {
   "cell_type": "markdown",
   "metadata": {},
   "source": [
    "### Comparision"
   ]
  },
  {
   "cell_type": "markdown",
   "metadata": {},
   "source": [
    "Suppose we have two Strings s and t given by a user, wher each String contains at least one character. Write a program that returns if s and t are equal (case sensitive). Please do not use equals or other eqivalence checking methods. *You can safely assume that both s and t have been declared*"
   ]
  },
  {
   "cell_type": "code",
   "execution_count": 9,
   "metadata": {},
   "outputs": [],
   "source": [
    "public boolean checkEquals(String s, String t) {\n",
    "    //different length\n",
    "    if (s.length() != length()) return false;\n",
    "    \n",
    "    //same length\n",
    "    for (int i = 0; i < s.length(); i++) {\n",
    "        if (s.charAt(i) != t.charAt(i)) {\n",
    "            return false;\n",
    "        }\n",
    "    }\n",
    "    return true;\n",
    "}"
   ]
  },
  {
   "cell_type": "markdown",
   "metadata": {},
   "source": [
    "### Manipulation"
   ]
  },
  {
   "cell_type": "markdown",
   "metadata": {},
   "source": [
    "Take a string input from the user. print the input sting in reverse order. For example, if s is \"abcd\", then \"dcba\" should be printed. If there was no input string, print out, \"There was no input to reverse\"."
   ]
  },
  {
   "cell_type": "code",
   "execution_count": 11,
   "metadata": {},
   "outputs": [],
   "source": [
    "public static void main(String [] args) {\n",
    "    //friendly info for users \n",
    "    System.out.println(\"Please input your string\");\n",
    "    \n",
    "    //Scanner\n",
    "    Scanner sc = new Scanner(System.in);\n",
    "    String str = sc.nextLine();\n",
    "    \n",
    "    //no string to reverse\n",
    "    if (str == null || str.length() == 0) {\n",
    "        System.out.println(\"There was no input to reverse\");\n",
    "        System.exit(0);\n",
    "    }\n",
    "    \n",
    "    //there is a string to reverse\n",
    "    String output = \"\";\n",
    "    for (int i = str.length()-1; i >= 0; i--) {\n",
    "        output += str.charAt(i);\n",
    "    }\n",
    "    System.out.println(output);\n",
    "}"
   ]
  },
  {
   "cell_type": "markdown",
   "metadata": {},
   "source": [
    "### Equality"
   ]
  },
  {
   "cell_type": "markdown",
   "metadata": {},
   "source": [
    "Code a simple log-in system:\n",
    "- Assume the password is set as a string \"111\".\n",
    "- Ask users to put in password by printing out \"What is your password?\"\n",
    "- If the user fails to provide the right password print \"Wrong password\", and repeat the above step. Otherwise, print out \"welcome, user\" and end the program\n",
    "- If the user enters \"quit\", end the progrma immediately"
   ]
  },
  {
   "cell_type": "code",
   "execution_count": 13,
   "metadata": {},
   "outputs": [],
   "source": [
    "class StringManipulator {\n",
    "    private static String ps = \"111\";\n",
    "    public static void main(String[] args) {\n",
    "        //define scanner and userPassword\n",
    "        Scanner sc = new Scanner(System.in);\n",
    "        String userPass;\n",
    "        \n",
    "        // log in  system start\n",
    "        while (true){\n",
    "            //ask password\n",
    "            System.out.println(\"What is your password\");\n",
    "            userPass = sc.nextLine();\n",
    "            \n",
    "            // check against ps\n",
    "            if (ps.equals(userPass)) {\n",
    "                break;\n",
    "            } else if (userPass.equals(\"quit\")) {\n",
    "                System.out.println(\"As you wish\");\n",
    "                System.exit(0);\n",
    "            } else {\n",
    "                System.out.println(\"Wrong password\");\n",
    "            }\n",
    "        }\n",
    "        //welcome\n",
    "        System.out.println(\"Welcome, user\");\n",
    "    }\n",
    "}"
   ]
  },
  {
   "cell_type": "markdown",
   "metadata": {},
   "source": [
    "### Parsing"
   ]
  },
  {
   "cell_type": "markdown",
   "metadata": {},
   "source": [
    "Input: Sting s taken from users\n",
    "Output: The number of English lowercase letters in s\n",
    "\n",
    "Examples:\n",
    "- Enter a String s: BanAnA\n",
    "- Output: BanAnA has 3 lowercase letters\n",
    "\n",
    "- Enter a String s: ABcdefGHi123;\n",
    "- Output: ABcdefGHi123 has 5 lowercase letters"
   ]
  },
  {
   "cell_type": "code",
   "execution_count": 17,
   "metadata": {},
   "outputs": [],
   "source": [
    "public static void main(String[] args) { \n",
    "    //get the string from users\n",
    "    System.out.println(\"Please input a string\");\n",
    "    Scanner sc = new Scanner(System.in);\n",
    "    String s = sc.nextLine();\n",
    "\n",
    "    //count lowercase letters\n",
    "    int count = 0;\n",
    "    for (int i = 0; i < s.length(); i++) {\n",
    "    char c = s.charAt(i);\n",
    "    if (Character.isLetter(c) && Character.isLowerCase(c)) {\n",
    "    count += 1;\n",
    "    }\n",
    "    }\n",
    "\n",
    "    //print result\n",
    "    System.out.println(s + \" has \" + count + \" lowercase letter(s).\");\n",
    "}"
   ]
  }
 ],
 "metadata": {
  "kernelspec": {
   "display_name": "Java",
   "language": "java",
   "name": "java"
  },
  "language_info": {
   "codemirror_mode": "java",
   "file_extension": ".jshell",
   "mimetype": "text/x-java-source",
   "name": "Java",
   "pygments_lexer": "java",
   "version": "11.0.3+7-Ubuntu-1ubuntu219.04.1"
  }
 },
 "nbformat": 4,
 "nbformat_minor": 2
}
