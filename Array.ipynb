{
 "cells": [
  {
   "cell_type": "markdown",
   "metadata": {},
   "source": [
    "# Array"
   ]
  },
  {
   "cell_type": "markdown",
   "metadata": {},
   "source": [
    "***"
   ]
  },
  {
   "cell_type": "markdown",
   "metadata": {},
   "source": [
    "## Array Manipulation"
   ]
  },
  {
   "cell_type": "markdown",
   "metadata": {},
   "source": [
    "Write a program that converts an array representation of an integer to an actual integer. Return the result after the conversation. The most significant digit is at the lowest index of the given representation. You an safely assume every representation is valid."
   ]
  },
  {
   "cell_type": "markdown",
   "metadata": {},
   "source": [
    "**Example 1**\n",
    "- Input: 1, 2, 6\n",
    "- Output: 126\n",
    "\n",
    "**Example 2**\n",
    "- Input: 9, 3, 2, 4\n",
    "- Output: 9324"
   ]
  },
  {
   "cell_type": "markdown",
   "metadata": {},
   "source": [
    "**Hint**\n",
    "\n",
    "s = 1, 2, 4, 6; (length as 4)\n",
    "\n",
    "    index 0 - 3\n",
    "    \n",
    "- index 0: 1 * 1000 = 1000\n",
    "- index 1: 2 * 100 = 200\n",
    "- index 2: 4 * 10 = 40\n",
    "- index 3: 6 * 1 = 6\n",
    "\n",
    "**for every digit:**\n",
    "\n",
    "**totalValue += digit at index <font color = red>i</font> * 10 power to (length - 1 - <font color = red>i</font>)**"
   ]
  },
  {
   "cell_type": "code",
   "execution_count": 3,
   "metadata": {},
   "outputs": [],
   "source": [
    "public int convert(int[] arr){\n",
    "    int result = 0;\n",
    "    for(int i = 0; i < arr.length; i++){\n",
    "        result += arr[i] * Math.pow(10, arr.length - i - 1);\n",
    "    }\n",
    "    return result;\n",
    "}"
   ]
  },
  {
   "cell_type": "markdown",
   "metadata": {},
   "source": [
    "***"
   ]
  },
  {
   "cell_type": "markdown",
   "metadata": {},
   "source": [
    "## Array Summation"
   ]
  },
  {
   "cell_type": "markdown",
   "metadata": {},
   "source": [
    "Given two non-negative integers represented as two non-empty arrays of digits, add them up an dreturn the result as an array.\n",
    "\n",
    "You may assume the integers do not contain any leading zero, except the number 0 itself. The digits are stored such that the most significant digit is at the index 0 of an array."
   ]
  },
  {
   "cell_type": "markdown",
   "metadata": {},
   "source": [
    "**Example:**\n",
    "- InputArray1: 1, 2, 3\n",
    "- InputArray2: 2, 9\n",
    "- ResultArray: 1, 5, 2"
   ]
  },
  {
   "cell_type": "markdown",
   "metadata": {},
   "source": [
    "**Tip:**\n",
    "1. Convert two arrays to two integers\n",
    "2. Add the two integers together\n",
    "3. Convert the sum to <font color = red>a string</font> with the most significant digit at index 0\n",
    "4. Conver <font color = red>the string</font> to <font color = red>an array</font>\n",
    "5. Return the array"
   ]
  },
  {
   "cell_type": "code",
   "execution_count": 5,
   "metadata": {},
   "outputs": [],
   "source": [
    "public int[] sumArray(int[] arr1, int[] arr2){\n",
    "    //get two integers\n",
    "    int a = convert(arr1), b = convert(arr2);\n",
    "    \n",
    "    //sum\n",
    "    int sum = a + b;\n",
    "    System.out.println(sum);\n",
    "    \n",
    "    // convert sum to string\n",
    "    String sumString = \"\" + sum;\n",
    "    \n",
    "    // convert sumString to array\n",
    "    int[] sumArray = new int[sumString.length()];\n",
    "    for (int i = 0; i < sumString.length(); i++){\n",
    "        sumArray[i] = \n",
    "        Character.getNumericValue(sumString.charAt(i));\n",
    "    }\n",
    "    return sumArray;\n",
    "}"
   ]
  }
 ],
 "metadata": {
  "kernelspec": {
   "display_name": "Java",
   "language": "java",
   "name": "java"
  },
  "language_info": {
   "codemirror_mode": "java",
   "file_extension": ".jshell",
   "mimetype": "text/x-java-source",
   "name": "Java",
   "pygments_lexer": "java",
   "version": "11.0.3+7-Ubuntu-1ubuntu219.04.1"
  }
 },
 "nbformat": 4,
 "nbformat_minor": 2
}
