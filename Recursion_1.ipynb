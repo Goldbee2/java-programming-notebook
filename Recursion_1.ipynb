{
 "cells": [
  {
   "cell_type": "markdown",
   "metadata": {},
   "source": [
    "# Recursion\n",
    "### Part 1"
   ]
  },
  {
   "cell_type": "code",
   "execution_count": 6,
   "metadata": {},
   "outputs": [],
   "source": [
    "/*if (problem is sufficiently simple) {\n",
    "    Directly solve the problem\n",
    "    Return the solution\n",
    "} else {\n",
    "    Split the problem up into one or more\n",
    "        smaller problems with the same structure as the original.\n",
    "    Solve each of those smaller problems\n",
    "    Combine the results to get the overall solution\n",
    "    Return the overall solution\n",
    "}*/"
   ]
  },
  {
   "cell_type": "markdown",
   "metadata": {},
   "source": [
    "### Recursivly take a power\n",
    "\n",
    "Implement the power function pow. pow takes two parameters. The first parameter is the base, while the second is the power. You can safely assume that the power is bigger than or equal to 0.\n",
    "\n",
    "For example:\n",
    "- pow(3, 2) = 9\n",
    "- pow(3, 3) = 27\n",
    "- pow(2, 5) = 32"
   ]
  },
  {
   "cell_type": "code",
   "execution_count": 1,
   "metadata": {},
   "outputs": [],
   "source": [
    "public int pow(int base, int power) {\n",
    "    if (power == 0) {\n",
    "        return 1;\n",
    "    } else {\n",
    "        return base * pow(base, power-1);\n",
    "    }\n",
    "}"
   ]
  },
  {
   "cell_type": "markdown",
   "metadata": {},
   "source": [
    "### Example: Directory Crawler"
   ]
  },
  {
   "cell_type": "code",
   "execution_count": null,
   "metadata": {},
   "outputs": [],
   "source": [
    "Scanner sc = new Scanner(System.in);\n",
    "System.out.println(\"directory or file name?\");\n",
    "String name = sc.nextLine();\n",
    "File f = new File(name);\n",
    "if(!f.exists()) {\n",
    "    System.out.println(\"No such file\");\n",
    "} else {\n",
    "    print(f);\n",
    "}"
   ]
  },
  {
   "cell_type": "code",
   "execution_count": null,
   "metadata": {},
   "outputs": [],
   "source": [
    "public void print(File f) {\n",
    "    if (!f.isDirectory()) {\n",
    "        System.out.println(f.getName());\n",
    "    } else {\n",
    "        System.out.println(f.getName());\n",
    "        for (File subF : f.listFiles()) {\n",
    "            print(subF);\n",
    "        }\n",
    "    }\n",
    "}"
   ]
  }
 ],
 "metadata": {
  "kernelspec": {
   "display_name": "Java",
   "language": "java",
   "name": "java"
  },
  "language_info": {
   "codemirror_mode": "java",
   "file_extension": ".jshell",
   "mimetype": "text/x-java-source",
   "name": "Java",
   "pygments_lexer": "java",
   "version": "11.0.3+7-Ubuntu-1ubuntu219.04.1"
  }
 },
 "nbformat": 4,
 "nbformat_minor": 2
}
