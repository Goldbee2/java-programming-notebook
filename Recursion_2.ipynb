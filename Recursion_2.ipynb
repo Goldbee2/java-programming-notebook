{
 "cells": [
  {
   "cell_type": "markdown",
   "metadata": {},
   "source": [
    "# Recursion\n",
    "### Part 2"
   ]
  },
  {
   "cell_type": "markdown",
   "metadata": {},
   "source": [
    "### Unique Path\n",
    "\n",
    "A robot vacuum cleaner is located at the top-left corner of a m x n grid.\n",
    "\n",
    "The cleaner can only move either down or right at any point in time. The cleaner is trying to reach the bottom-right corner of the grid (marked 'Finish' in the diagram below).\n",
    "\n",
    "How many possible unique paths are there?"
   ]
  },
  {
   "cell_type": "code",
   "execution_count": 2,
   "metadata": {},
   "outputs": [],
   "source": [
    "//given width as ma nd height as n\n",
    "int uniquePaths(int m, int n) {\n",
    "    // get index\n",
    "    m = m - 1;\n",
    "    n = n - 1;\n",
    "    \n",
    "    //base case\n",
    "    if (m == 0 || n == 0) {\n",
    "        return 1;\n",
    "    } else {\n",
    "        //recursive case\n",
    "        return uniquePaths(m-1, n) + uniquePaths(m, n-1);\n",
    "    }\n",
    "}"
   ]
  },
  {
   "cell_type": "markdown",
   "metadata": {},
   "source": [
    "### Add the digits\n",
    "\n",
    "Given a non-negative integer num, repeatedly add all its digits until the result only has one digit.\n",
    "\n",
    "For example:\n",
    "\n",
    "Given num = 38, the process is like:\n",
    "- 3 + 8 = 11\n",
    "- 1 + 1 = 2\n",
    "\n",
    "Since 2 only has one digit, return it."
   ]
  },
  {
   "cell_type": "code",
   "execution_count": 1,
   "metadata": {},
   "outputs": [],
   "source": [
    "public int addDigits(int num) {\n",
    "    int result = 0;\n",
    "    \n",
    "    //base case\n",
    "    if (num < 10) {\n",
    "        return num;\n",
    "    } //recursive case\n",
    "    else {\n",
    "        //add all digits except the\n",
    "        //most significant one\n",
    "        while (num >= 10) {\n",
    "            result += num % 10;\n",
    "            num = num / 10;\n",
    "        }\n",
    "        //add the significant digit\n",
    "        result += num;\n",
    "        \n",
    "        //recursive call\n",
    "        return addDigits(result);\n",
    "    }\n",
    "}"
   ]
  }
 ],
 "metadata": {
  "kernelspec": {
   "display_name": "Java",
   "language": "java",
   "name": "java"
  },
  "language_info": {
   "codemirror_mode": "java",
   "file_extension": ".jshell",
   "mimetype": "text/x-java-source",
   "name": "Java",
   "pygments_lexer": "java",
   "version": "11.0.3+7-Ubuntu-1ubuntu219.04.1"
  }
 },
 "nbformat": 4,
 "nbformat_minor": 2
}
