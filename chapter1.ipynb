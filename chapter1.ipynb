{
 "cells": [
  {
   "cell_type": "code",
   "execution_count": 1,
   "metadata": {},
   "outputs": [],
   "source": [
    "public class Hello{\n",
    "    public static void main(String[] args) {\n",
    "        System.out.println(\"Hello, world!\");\n",
    "    }\n",
    "}"
   ]
  },
  {
   "cell_type": "code",
   "execution_count": 2,
   "metadata": {},
   "outputs": [],
   "source": [
    "public static void main(String[] args) {\n",
    "    System.out.println(\"Hello, world!\");\n",
    "}"
   ]
  },
  {
   "cell_type": "code",
   "execution_count": 3,
   "metadata": {},
   "outputs": [
    {
     "name": "stdout",
     "output_type": "stream",
     "text": [
      "Hello, world!\n"
     ]
    }
   ],
   "source": [
    "System.out.println(\"Hello, world!\");"
   ]
  },
  {
   "cell_type": "markdown",
   "metadata": {},
   "source": [
    "## Multiply two integers together"
   ]
  },
  {
   "cell_type": "code",
   "execution_count": 7,
   "metadata": {},
   "outputs": [],
   "source": [
    "public int multiply(int x, int y) {\n",
    "    int i = 1, result = 0;\n",
    "    while (i <= x) {\n",
    "        result += y;\n",
    "        i += 1;\n",
    "    }\n",
    "\n",
    "    return result;\n",
    "}"
   ]
  },
  {
   "cell_type": "code",
   "execution_count": 8,
   "metadata": {},
   "outputs": [
    {
     "data": {
      "text/plain": [
       "12"
      ]
     },
     "execution_count": 8,
     "metadata": {},
     "output_type": "execute_result"
    }
   ],
   "source": [
    "multiply(3, 4);"
   ]
  },
  {
   "cell_type": "markdown",
   "metadata": {},
   "source": [
    "## Print A Matrix"
   ]
  },
  {
   "cell_type": "code",
   "execution_count": 3,
   "metadata": {},
   "outputs": [],
   "source": [
    "public  void printCells(int r, int c){\n",
    "    for (int i = 1; i <= r; i++){\n",
    "        for (int j = 1; j <= c; j++){\n",
    "            System.out.print(i + \"/\" + j + \" \");\n",
    "        }\n",
    "        System.out.println();\n",
    "    }\n",
    "}"
   ]
  },
  {
   "cell_type": "code",
   "execution_count": 5,
   "metadata": {},
   "outputs": [
    {
     "name": "stdout",
     "output_type": "stream",
     "text": [
      "1/1 \n",
      "1/2 \n",
      "1/3 \n",
      "1/4 \n",
      "1/5 \n",
      "\n",
      "2/1 \n",
      "2/2 \n",
      "2/3 \n",
      "2/4 \n",
      "2/5 \n",
      "\n",
      "3/1 \n",
      "3/2 \n",
      "3/3 \n",
      "3/4 \n",
      "3/5 \n",
      "\n"
     ]
    }
   ],
   "source": [
    "printCells(3,5);"
   ]
  },
  {
   "cell_type": "code",
   "execution_count": 8,
   "metadata": {},
   "outputs": [
    {
     "name": "stdout",
     "output_type": "stream",
     "text": [
      "1\n",
      "2\n",
      "Fizz\n",
      "4\n",
      "Buzz\n"
     ]
    }
   ],
   "source": [
    "int n = 5;\n",
    "for (int i = 1; i <= n; i++){\n",
    "    if(i % 3 == 0 && i % 5 == 0){\n",
    "        System.out.println(\"FizzBuzz\");\n",
    "    } else if(i % 5 == 0){\n",
    "        System.out.println(\"Buzz\");\n",
    "    } else if (i % 3 == 0){\n",
    "        System.out.println(\"Fizz\");\n",
    "    } else {\n",
    "        System.out.println(i);\n",
    "    }\n",
    "}"
   ]
  },
  {
   "cell_type": "code",
   "execution_count": 1,
   "metadata": {},
   "outputs": [],
   "source": [
    "public void printCellsB(int r, int c){\n",
    "    for (int i = 1; i <= r; i++){\n",
    "        for (int j = 1; j <= c; j++){\n",
    "            System.out.print(i + \"/\" + j + \" \");\n",
    "        }\n",
    "    }\n",
    "    System.out.println();\n",
    "}"
   ]
  },
  {
   "cell_type": "code",
   "execution_count": 2,
   "metadata": {},
   "outputs": [
    {
     "name": "stdout",
     "output_type": "stream",
     "text": [
      "1/1 1/2 1/3 1/4 1/5 2/1 2/2 2/3 2/4 2/5 3/1 3/2 3/3 3/4 3/5 4/1 4/2 4/3 4/4 4/5 5/1 5/2 5/3 5/4 5/5 \n"
     ]
    }
   ],
   "source": [
    "printCellsB(5,5);"
   ]
  },
  {
   "cell_type": "markdown",
   "metadata": {},
   "source": [
    "## Prints a Diamond"
   ]
  },
  {
   "cell_type": "code",
   "execution_count": 5,
   "metadata": {},
   "outputs": [
    {
     "name": "stdout",
     "output_type": "stream",
     "text": [
      "    *\n",
      "   ***\n",
      "  *****\n",
      " *******\n",
      "*********\n"
     ]
    }
   ],
   "source": [
    "int n = 5;\n",
    "int space = n-1;\n",
    "for (int i = 1; i <= n; i++){\n",
    "    //spaces\n",
    "    for (int j = 1; j <= space; j++){\n",
    "        System.out.print(\" \");\n",
    "    }\n",
    "    \n",
    "    //asterisks\n",
    "    for (int j = 1; j <= 2*i-1; j++){\n",
    "        System.out.print(\"*\");\n",
    "    }\n",
    "    \n",
    "    //end of line\n",
    "    System.out.print(\"\\n\");\n",
    "    space--;\n",
    "}"
   ]
  },
  {
   "cell_type": "code",
   "execution_count": null,
   "metadata": {},
   "outputs": [],
   "source": []
  }
 ],
 "metadata": {
  "kernelspec": {
   "display_name": "Java",
   "language": "java",
   "name": "java"
  },
  "language_info": {
   "codemirror_mode": "java",
   "file_extension": ".jshell",
   "mimetype": "text/x-java-source",
   "name": "Java",
   "pygments_lexer": "java",
   "version": "11.0.3+7-Ubuntu-1ubuntu219.04.1"
  }
 },
 "nbformat": 4,
 "nbformat_minor": 2
}
