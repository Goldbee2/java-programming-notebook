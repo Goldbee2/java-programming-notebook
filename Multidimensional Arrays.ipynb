{
 "cells": [
  {
   "cell_type": "markdown",
   "metadata": {},
   "source": [
    "## Reshaping a Matrix"
   ]
  },
  {
   "cell_type": "markdown",
   "metadata": {},
   "source": [
    "In MATHLAB, there is a very useful fuction called 'reshape', which can reshape a matrix into a new one with different size but keep it's original data.\n",
    "\n",
    "You're given a matrix represented by a two-dimensional array, and two positive integers r and c representing the row number and column number of the wanted reshaped matrix, respectively.\n",
    "\n",
    "The reshaped matrix needs to be filled with all the elements of the original matrix in the same row-traversing order as they were.\n",
    "\n",
    "If the 'reshape' operation with given parameters is possible and legal, output the new reshaped matrix; otherwise, output the original matrix."
   ]
  },
  {
   "cell_type": "markdown",
   "metadata": {},
   "source": [
    "#### Examples\n",
    "Input:\n",
    "\n",
    "    nums = [[1,2], \n",
    "           [3,4]];\n",
    "    r = 1, c = 4;\n",
    "\n",
    "Ouput:\n",
    "\n",
    "    [[1,2,3,4]]\n",
    "\n",
    "\n",
    "\n",
    "Input:\n",
    "\n",
    "    nums = [[1,2,3], \n",
    "           [4,5,6]];\n",
    "    r = 1, c = 4;\n",
    "\n",
    "Output: \n",
    "\n",
    "    [[1,2],\n",
    "    [3,4],\n",
    "    [5,6]]"
   ]
  },
  {
   "cell_type": "code",
   "execution_count": null,
   "metadata": {},
   "outputs": [],
   "source": [
    "public int[][] matrixReshape(int[][] nums, int r, int c){\n",
    "    //get row and col numbers\n",
    "    int rnum = nums.length, cnum = nums[0].length;\n",
    "    \n",
    "    // validity check\n",
    "    int total = rnum *cnum;\n",
    "    if (total != r*c) {return nums;}\n",
    "    \n",
    "    // reshape\n",
    "    int t = 0, s = 0;\n",
    "    int[][] result = new int[r][c];\n",
    "    \n",
    "    for (int i = 0; i < r; i++){\n",
    "        for (int j = 0 ; j < c; j++){\n",
    "            result[i][j] = nums[t][s];\n",
    "            s++;\n",
    "            \n",
    "            // check if at the end of a row\n",
    "            if (s == cnum){\n",
    "                t += 1;\n",
    "                s = 0;\n",
    "            }\n",
    "        }\n",
    "    }\n",
    "    return result;\n",
    "}"
   ]
  },
  {
   "cell_type": "markdown",
   "metadata": {},
   "source": []
  }
 ],
 "metadata": {
  "kernelspec": {
   "display_name": "Java",
   "language": "java",
   "name": "java"
  },
  "language_info": {
   "codemirror_mode": "java",
   "file_extension": ".jshell",
   "mimetype": "text/x-java-source",
   "name": "Java",
   "pygments_lexer": "java",
   "version": "11.0.3+7-Ubuntu-1ubuntu219.04.1"
  }
 },
 "nbformat": 4,
 "nbformat_minor": 2
}
