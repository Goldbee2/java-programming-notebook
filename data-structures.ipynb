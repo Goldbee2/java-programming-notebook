{
 "cells": [
  {
   "cell_type": "markdown",
   "metadata": {},
   "source": [
    "## Loading Libraries"
   ]
  },
  {
   "cell_type": "markdown",
   "metadata": {},
   "source": [
    "Lets import all the necessary packages first. You may safely ignore this section."
   ]
  },
  {
   "cell_type": "code",
   "execution_count": 6,
   "metadata": {},
   "outputs": [],
   "source": [
    "import java.util.*;\n",
    "import java.io.*;"
   ]
  },
  {
   "cell_type": "markdown",
   "metadata": {},
   "source": [
    "## Stack"
   ]
  },
  {
   "cell_type": "markdown",
   "metadata": {},
   "source": [
    "A stack is a collection based on the principle of adding elements and retrieving them in the opposite order.\n",
    "\n",
    "- Last-In, First-Out (\"LIFO\")\n",
    "- The elements are stored in order of insertion, but we do not think of them as having indexes.\n",
    "- The client can only add/remove/examine the last element added (the \"top\" of the stack).\n",
    "\n",
    "An example of how a stack can be operated is as follows: Imagine you were stacking 4 books on each other. You'd put the first one on a table, the the second book on the first book, and the next one on top of that one, etc. If you wanted to take a book from the pile, you'd have to take it from the very top, which just so happened to be the last book you placed. This is how a stack works.\n",
    "\n",
    "Basic Stack Operations:\n",
    "- push: Add an elemnt to the top\n",
    "- pop: Remove the top element\n",
    "- peek: Return the top element\n",
    "- isEmpty: Check if empty or not\n",
    "- size: Check the size of the stack"
   ]
  },
  {
   "cell_type": "markdown",
   "metadata": {},
   "source": [
    "You can create a stack by the following syntax.\n",
    "\n",
    "Stack <_base type_> nameStack = new Stack <_base type_>(); \n",
    "- _base type_ has to be a reference type.\n",
    " - int       Integer\n",
    " - double    Double\n",
    " - char      Character\n",
    " - boolean   Boolean\n",
    " \n",
    " Example of using a stack:"
   ]
  },
  {
   "cell_type": "code",
   "execution_count": 10,
   "metadata": {},
   "outputs": [],
   "source": [
    "public class stackExample {\n",
    "    public static void main(String[] args) {\n",
    "        Stack<Integer> stack = new Stack<Integer>();\n",
    "        stack.push(1); // stack: 1\n",
    "        stack.push(2); // stack: 1, 2\n",
    "        stack.push(3); // stack: 1, 2, 3\n",
    "        stack.push(4); // stack: 1, 2, 3, 4\n",
    "        stack.push();  // return 4; stack: 1, 2, 3, 4\n",
    "        stack.pop();   // return 4; stack: 1, 2, 3 (Removed 4)\n",
    "        stack.isEmpty(); //return false; stack: 1, 2, 3\n",
    "    }\n",
    "}"
   ]
  },
  {
   "cell_type": "markdown",
   "metadata": {},
   "source": [
    "When do you want to use stacks?\n",
    "- Use a stack when you want to get things out in the reverse order than you put them in.\n",
    "- Multiple embedded pairing in a sequence."
   ]
  },
  {
   "cell_type": "markdown",
   "metadata": {},
   "source": [
    "## Do It Yourself"
   ]
  },
  {
   "cell_type": "markdown",
   "metadata": {},
   "source": [
    "Practice Problem 1:\n",
    "\n",
    "Given a string containing ust the characters '(' and ')'. Determine if the input string is valid. For a string to be valid, there must be the same amount of opening brackets to closing brackets and they have to be in correct order.\n",
    "- \"()\" and \"()()()\" are valid\n",
    "- \"((())())\" is also valid\n",
    "- \")(\" and \"(()\" are not valid\n",
    "\n",
    "The skeleton code will be provided. You are to code isValid(String s) function to return the value true if the string is valid and false otherwise."
   ]
  },
  {
   "cell_type": "code",
   "execution_count": 4,
   "metadata": {},
   "outputs": [],
   "source": [
    "class stackApp {\n",
    "    public boolean isValid(String s) {\n",
    "        return true;\n",
    "    }\n",
    "}"
   ]
  },
  {
   "cell_type": "markdown",
   "metadata": {},
   "source": [
    "Practice Problem 2:\n",
    "\n",
    "Given an array of tokens that could be of operations and numbers, evaluate the value of the arithmetic expression in reverse polish notation.\n",
    "\n",
    "Valid operations are +, -, /, *.\n",
    "\n",
    "Each of the opreands may be an integer or another expression.\n",
    "\n",
    "Some examples:\n",
    "- [\"2\", \"1\", \"+\", \"3\", \"*\"] -> ((2 + 1) * 3) -> 9\n",
    "- [\"4\", \"13\", \"5\", \"/\", \"+\"] -> (4 + 13 / 5)) -> 6\n",
    "\n",
    "*Hint:*\n",
    "- *Traverse the array for once*\n",
    "- *Any numeric value goes to a stack*\n",
    "- *If an operator value is encountered, pop from the stack for two times (to get two numeric values\" and perform calculation*\n",
    "- *Push the calculation result back to the stack*\n",
    "\n",
    "The skeleton code will be provided. You are to code evalRPN(String[] tokens) function to return the value of the arithmetic expressions that are being inputed through the array."
   ]
  },
  {
   "cell_type": "code",
   "execution_count": 5,
   "metadata": {},
   "outputs": [],
   "source": [
    "class stackApp {\n",
    "    public int evalRPN(String[] tokens) {\n",
    "        return 0;\n",
    "    }\n",
    "}"
   ]
  },
  {
   "cell_type": "code",
   "execution_count": null,
   "metadata": {},
   "outputs": [],
   "source": []
  }
 ],
 "metadata": {
  "kernelspec": {
   "display_name": "Java",
   "language": "java",
   "name": "java"
  },
  "language_info": {
   "codemirror_mode": "java",
   "file_extension": ".jshell",
   "mimetype": "text/x-java-source",
   "name": "Java",
   "pygments_lexer": "java",
   "version": "12.0.1+12"
  }
 },
 "nbformat": 4,
 "nbformat_minor": 2
}
