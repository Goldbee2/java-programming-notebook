{
 "cells": [
  {
   "cell_type": "markdown",
   "metadata": {},
   "source": [
    "## Loading Libraries"
   ]
  },
  {
   "cell_type": "markdown",
   "metadata": {},
   "source": [
    "Lets import all the necessary packages first. You may safely ignore this section."
   ]
  },
  {
   "cell_type": "code",
   "execution_count": 6,
   "metadata": {},
   "outputs": [],
   "source": [
    "import java.util.*;\n",
    "import java.io.*;"
   ]
  },
  {
   "cell_type": "markdown",
   "metadata": {},
   "source": [
    "## Stack"
   ]
  },
  {
   "cell_type": "markdown",
   "metadata": {},
   "source": [
    "A stack is a collection based on the principle of adding elements and retrieving them in the opposite order.\n",
    "\n",
    "- Last-In, First-Out (\"LIFO\")\n",
    "- The elements are stored in order of insertion, but we do not think of them as having indexes.\n",
    "- The client can only add/remove/examine the last element added (the \"top\" of the stack).\n",
    "\n",
    "An example of how a stack can be operated is as follows: Imagine you were stacking 4 books on each other. You'd put the first one on a table, the the second book on the first book, and the next one on top of that one, etc. If you wanted to take a book from the pile, you'd have to take it from the very top, which just so happened to be the last book you placed. This is how a stack works.\n",
    "\n",
    "Basic Stack Operations:\n",
    "- push: Add an elemnt to the top\n",
    "- pop: Remove the top element\n",
    "- peek: Return the top element\n",
    "- isEmpty: Check if empty or not\n",
    "- size: Check the size of the stack"
   ]
  },
  {
   "cell_type": "markdown",
   "metadata": {},
   "source": [
    "You can create a stack by the following syntax.\n",
    "\n",
    "Stack <_base type_> nameStack = new Stack <_base type_>(); \n",
    "- _base type_ has to be a reference type.\n",
    " - int       Integer\n",
    " - double    Double\n",
    " - char      Character\n",
    " - boolean   Boolean\n",
    " \n",
    " Example of using a stack:"
   ]
  },
  {
   "cell_type": "code",
   "execution_count": 10,
   "metadata": {},
   "outputs": [],
   "source": [
    "public class stackExample {\n",
    "    public static void main(String[] args) {\n",
    "        Stack<Integer> stack = new Stack<Integer>();\n",
    "        stack.push(1); // stack: 1\n",
    "        stack.push(2); // stack: 1, 2\n",
    "        stack.push(3); // stack: 1, 2, 3\n",
    "        stack.push(4); // stack: 1, 2, 3, 4\n",
    "        stack.push();  // return 4; stack: 1, 2, 3, 4\n",
    "        stack.pop();   // return 4; stack: 1, 2, 3 (Removed 4)\n",
    "        stack.isEmpty(); //return false; stack: 1, 2, 3\n",
    "    }\n",
    "}"
   ]
  },
  {
   "cell_type": "code",
   "execution_count": null,
   "metadata": {},
   "outputs": [],
   "source": []
  }
 ],
 "metadata": {
  "kernelspec": {
   "display_name": "Java",
   "language": "java",
   "name": "java"
  },
  "language_info": {
   "codemirror_mode": "java",
   "file_extension": ".jshell",
   "mimetype": "text/x-java-source",
   "name": "Java",
   "pygments_lexer": "java",
   "version": "12.0.1+12"
  }
 },
 "nbformat": 4,
 "nbformat_minor": 2
}
