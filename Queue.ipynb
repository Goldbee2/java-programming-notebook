{
 "cells": [
  {
   "cell_type": "markdown",
   "metadata": {},
   "source": [
    "# Queue"
   ]
  },
  {
   "cell_type": "markdown",
   "metadata": {},
   "source": [
    "## Practice"
   ]
  },
  {
   "cell_type": "markdown",
   "metadata": {},
   "source": [
    "Given a stream of integers and a window size, calculate the moving average of all integers in the sliding window.\n",
    "\n",
    "For example,\n",
    "\n",
    "    MovingAverage m = new MovingAverage(3);\n",
    "    m.next(1) = 1\n",
    "    m.next(10) = (1 + 10)/2\n",
    "    m.next(3) = (1 + 10 + 3) / 3\n",
    "    m.next(5) = (10 + 3 + 5) / 3"
   ]
  },
  {
   "cell_type": "code",
   "execution_count": 2,
   "metadata": {},
   "outputs": [],
   "source": [
    "class MovingAverage{\n",
    "    // Initilize your data structure here\n",
    "    private double previousSum = 0.0;\n",
    "    private int maxSize;\n",
    "    private Queue<Integer> currentWindow;\n",
    "\n",
    "    public MovingAverage(int size) {\n",
    "        currentWindow = new ArrayDeque<Integer>();\n",
    "        maxSize = size;\n",
    "    }\n",
    "\n",
    "    public double next(int val) {\n",
    "        if (currentWindow.size() == maxSize) {\n",
    "            previousSum -= currentWindow.remove();\n",
    "        }\n",
    "        previousSum += val;\n",
    "        currentWindow.add(val);\n",
    "        return previousSum / currentWindow.size();\n",
    "    }\n",
    "}"
   ]
  }
 ],
 "metadata": {
  "kernelspec": {
   "display_name": "Java",
   "language": "java",
   "name": "java"
  },
  "language_info": {
   "codemirror_mode": "java",
   "file_extension": ".jshell",
   "mimetype": "text/x-java-source",
   "name": "Java",
   "pygments_lexer": "java",
   "version": "11.0.3+7-Ubuntu-1ubuntu219.04.1"
  }
 },
 "nbformat": 4,
 "nbformat_minor": 2
}
