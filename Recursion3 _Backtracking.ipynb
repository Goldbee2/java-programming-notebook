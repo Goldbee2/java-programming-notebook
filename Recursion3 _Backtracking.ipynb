{
 "cells": [
  {
   "cell_type": "markdown",
   "metadata": {},
   "source": [
    "# Backtracking"
   ]
  },
  {
   "cell_type": "markdown",
   "metadata": {},
   "source": [
    "Backtracking is a special type of recursion. When a problem seems seeking a solution that requires systematic searching amoung a set of possiblities, think about backtracking."
   ]
  },
  {
   "cell_type": "code",
   "execution_count": 1,
   "metadata": {},
   "outputs": [],
   "source": [
    "/*public void search(a scenario) {\n",
    "    if (this is a solution) {\n",
    "        report it;\n",
    "    } else if (this is not a dead end) {\n",
    "        call search recursivly on available choices;\n",
    "    }\n",
    "}*/"
   ]
  },
  {
   "cell_type": "markdown",
   "metadata": {},
   "source": [
    "### Finding all the Combinations\n",
    "\n",
    "Given a digit string, print all possible letter combinations that the number could represent.\n",
    "\n",
    "A mapping of digit to letters (just like on the telephone buttons) is given below."
   ]
  },
  {
   "cell_type": "code",
   "execution_count": 2,
   "metadata": {},
   "outputs": [],
   "source": [
    "public static void combination(String digits, String path) {\n",
    "    if (digits.length() == 0) {\n",
    "        System.out.println(path);\n",
    "    } else if (digits.length() > 0) {\n",
    "        int index = Character.getNumericValue(digits.charAt(0));\n",
    "        \n",
    "        if (index == 0 || index == 1) {\n",
    "            combination(digits.substring(1), path+c);\n",
    "        } else {\n",
    "            for (int i = 0; i < letters[index].length(); i++){\n",
    "                char c = letters[index].charAt(i);\n",
    "                combination(digits.substring(1), path+c);\n",
    "            }\n",
    "        }\n",
    "    }\n",
    "}"
   ]
  }
 ],
 "metadata": {
  "kernelspec": {
   "display_name": "Java",
   "language": "java",
   "name": "java"
  },
  "language_info": {
   "codemirror_mode": "java",
   "file_extension": ".jshell",
   "mimetype": "text/x-java-source",
   "name": "Java",
   "pygments_lexer": "java",
   "version": "11.0.3+7-Ubuntu-1ubuntu219.04.1"
  }
 },
 "nbformat": 4,
 "nbformat_minor": 2
}
