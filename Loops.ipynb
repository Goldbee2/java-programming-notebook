{
 "cells": [
  {
   "cell_type": "markdown",
   "metadata": {},
   "source": [
    "# Loops"
   ]
  },
  {
   "cell_type": "markdown",
   "metadata": {},
   "source": [
    "## For Loops\n",
    "### Print a Matrix"
   ]
  },
  {
   "cell_type": "markdown",
   "metadata": {},
   "source": [
    "Print a matrix given r rows, c columns. In the matrix, each cell has value ith/jth. The example is the case when r = 5, c = 5.\n",
    "\n",
    "*You can also safely assume the two given integers as row and column numbers are positive.*"
   ]
  },
  {
   "cell_type": "code",
   "execution_count": 1,
   "metadata": {},
   "outputs": [],
   "source": [
    "public  void printCells(int r, int c){\n",
    "    for (int i = 1; i <= r; i++){\n",
    "        for (int j = 1; j <= c; j++){\n",
    "            System.out.print(i + \"/\" + j + \" \");\n",
    "        }\n",
    "        System.out.println();\n",
    "    }\n",
    "}"
   ]
  },
  {
   "cell_type": "markdown",
   "metadata": {},
   "source": [
    "## While Loops\n",
    "### Multiply two integers together"
   ]
  },
  {
   "cell_type": "markdown",
   "metadata": {},
   "source": [
    "Given two non-negative integers, multiply them together without useing the * operator.\n",
    "\n",
    "#### Example:\n",
    "\n",
    "    Given: 3, 4\n",
    "    Return: 12\n",
    "    \n",
    "    Given: 2, 8\n",
    "    Return: 16"
   ]
  },
  {
   "cell_type": "code",
   "execution_count": null,
   "metadata": {},
   "outputs": [],
   "source": [
    "public int multiply(int x, int y) {\n",
    "    int i = 1, result = 0;\n",
    "    while (i <= x) {\n",
    "        result += y;\n",
    "        i += 1;\n",
    "    }\n",
    "\n",
    "    return result;\n",
    "}"
   ]
  }
 ],
 "metadata": {
  "kernelspec": {
   "display_name": "Java",
   "language": "java",
   "name": "java"
  },
  "language_info": {
   "codemirror_mode": "java",
   "file_extension": ".jshell",
   "mimetype": "text/x-java-source",
   "name": "Java",
   "pygments_lexer": "java",
   "version": "11.0.3+7-Ubuntu-1ubuntu219.04.1"
  }
 },
 "nbformat": 4,
 "nbformat_minor": 2
}
