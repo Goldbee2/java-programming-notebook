	public boolean isValid(String s) {
		Stack<Character> myStack = new Stack<Character>();

		for (int i = 0; i < s.length(); i++) {
			if (s.charAt(i) == '(') {
				myStack.push(s.charAt(i));
			}
		}
		return true;
	}
